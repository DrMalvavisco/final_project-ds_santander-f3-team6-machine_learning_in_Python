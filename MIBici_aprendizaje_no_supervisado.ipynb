{
  "nbformat": 4,
  "nbformat_minor": 0,
  "metadata": {
    "colab": {
      "provenance": []
    },
    "kernelspec": {
      "name": "python3",
      "display_name": "Python 3"
    },
    "language_info": {
      "name": "python"
    }
  },
  "cells": [
    {
      "cell_type": "markdown",
      "source": [
        "#Prueba de algotirmo No supervisado"
      ],
      "metadata": {
        "id": "uYkrADW0dBS3"
      }
    },
    {
      "cell_type": "markdown",
      "source": [
        "Se explora si el aprendizaje no supervisado nos puede sar información de utilidad. Para esto se prueba agrupar datos de la ubicación del servicio MiBici en el área metropolitana de Jalisco. Para esto se extrae información de la API del proyecto global Citybik."
      ],
      "metadata": {
        "id": "nSNGNYN2NFFl"
      }
    },
    {
      "cell_type": "code",
      "execution_count": 133,
      "metadata": {
        "collapsed": true,
        "id": "IiXnpkSDU2Nq"
      },
      "outputs": [],
      "source": [
        "## Imports necesarios\n",
        "import numpy as np\n",
        "import requests\n",
        "import pandas as pd\n",
        "from matplotlib import pyplot as plt\n",
        "from sklearn.model_selection import train_test_split\n",
        "from sklearn.cluster import KMeans\n"
      ]
    },
    {
      "cell_type": "code",
      "source": [
        "endpoint = 'https://api.citybik.es/v2/networks/mibici-guadalajara'\n",
        "r = requests.get(endpoint)\n",
        "r.status_code"
      ],
      "metadata": {
        "colab": {
          "base_uri": "https://localhost:8080/"
        },
        "id": "Wf-F63LXkoy6",
        "outputId": "8486dcb2-355f-4201-f319-bf8862521a17"
      },
      "execution_count": 2,
      "outputs": [
        {
          "output_type": "execute_result",
          "data": {
            "text/plain": [
              "200"
            ]
          },
          "metadata": {},
          "execution_count": 2
        }
      ]
    },
    {
      "cell_type": "code",
      "source": [
        "json = r.json()\n",
        "Info_MIBICI =  pd.json_normalize(json)\n",
        "Info_MIBICI"
      ],
      "metadata": {
        "colab": {
          "base_uri": "https://localhost:8080/",
          "height": 197
        },
        "id": "POBy48sokr6V",
        "outputId": "4f581f96-246b-474a-89c9-70eb8a88ad90"
      },
      "execution_count": 113,
      "outputs": [
        {
          "output_type": "execute_result",
          "data": {
            "text/plain": [
              "                                     network.company  \\\n",
              "0  [BKT bici publica S.A. de C.V., PBSC Urban Sol...   \n",
              "\n",
              "                                network.gbfs_href  \\\n",
              "0  https://guad.publicbikesystem.net/ube/gbfs/v1/   \n",
              "\n",
              "                      network.href          network.id network.location.city  \\\n",
              "0  /v2/networks/mibici-guadalajara  mibici-guadalajara           Guadalajara   \n",
              "\n",
              "  network.location.country  network.location.latitude  \\\n",
              "0                       MX                  20.673788   \n",
              "\n",
              "   network.location.longitude network.name  \\\n",
              "0                 -103.370433       MIBICI   \n",
              "\n",
              "                                    network.stations  \n",
              "0  [{'empty_slots': 9, 'extra': {'address': '(GDL...  "
            ],
            "text/html": [
              "\n",
              "  <div id=\"df-fb410a09-5981-48dc-8944-aef6912e9fd1\">\n",
              "    <div class=\"colab-df-container\">\n",
              "      <div>\n",
              "<style scoped>\n",
              "    .dataframe tbody tr th:only-of-type {\n",
              "        vertical-align: middle;\n",
              "    }\n",
              "\n",
              "    .dataframe tbody tr th {\n",
              "        vertical-align: top;\n",
              "    }\n",
              "\n",
              "    .dataframe thead th {\n",
              "        text-align: right;\n",
              "    }\n",
              "</style>\n",
              "<table border=\"1\" class=\"dataframe\">\n",
              "  <thead>\n",
              "    <tr style=\"text-align: right;\">\n",
              "      <th></th>\n",
              "      <th>network.company</th>\n",
              "      <th>network.gbfs_href</th>\n",
              "      <th>network.href</th>\n",
              "      <th>network.id</th>\n",
              "      <th>network.location.city</th>\n",
              "      <th>network.location.country</th>\n",
              "      <th>network.location.latitude</th>\n",
              "      <th>network.location.longitude</th>\n",
              "      <th>network.name</th>\n",
              "      <th>network.stations</th>\n",
              "    </tr>\n",
              "  </thead>\n",
              "  <tbody>\n",
              "    <tr>\n",
              "      <th>0</th>\n",
              "      <td>[BKT bici publica S.A. de C.V., PBSC Urban Sol...</td>\n",
              "      <td>https://guad.publicbikesystem.net/ube/gbfs/v1/</td>\n",
              "      <td>/v2/networks/mibici-guadalajara</td>\n",
              "      <td>mibici-guadalajara</td>\n",
              "      <td>Guadalajara</td>\n",
              "      <td>MX</td>\n",
              "      <td>20.673788</td>\n",
              "      <td>-103.370433</td>\n",
              "      <td>MIBICI</td>\n",
              "      <td>[{'empty_slots': 9, 'extra': {'address': '(GDL...</td>\n",
              "    </tr>\n",
              "  </tbody>\n",
              "</table>\n",
              "</div>\n",
              "      <button class=\"colab-df-convert\" onclick=\"convertToInteractive('df-fb410a09-5981-48dc-8944-aef6912e9fd1')\"\n",
              "              title=\"Convert this dataframe to an interactive table.\"\n",
              "              style=\"display:none;\">\n",
              "        \n",
              "  <svg xmlns=\"http://www.w3.org/2000/svg\" height=\"24px\"viewBox=\"0 0 24 24\"\n",
              "       width=\"24px\">\n",
              "    <path d=\"M0 0h24v24H0V0z\" fill=\"none\"/>\n",
              "    <path d=\"M18.56 5.44l.94 2.06.94-2.06 2.06-.94-2.06-.94-.94-2.06-.94 2.06-2.06.94zm-11 1L8.5 8.5l.94-2.06 2.06-.94-2.06-.94L8.5 2.5l-.94 2.06-2.06.94zm10 10l.94 2.06.94-2.06 2.06-.94-2.06-.94-.94-2.06-.94 2.06-2.06.94z\"/><path d=\"M17.41 7.96l-1.37-1.37c-.4-.4-.92-.59-1.43-.59-.52 0-1.04.2-1.43.59L10.3 9.45l-7.72 7.72c-.78.78-.78 2.05 0 2.83L4 21.41c.39.39.9.59 1.41.59.51 0 1.02-.2 1.41-.59l7.78-7.78 2.81-2.81c.8-.78.8-2.07 0-2.86zM5.41 20L4 18.59l7.72-7.72 1.47 1.35L5.41 20z\"/>\n",
              "  </svg>\n",
              "      </button>\n",
              "      \n",
              "  <style>\n",
              "    .colab-df-container {\n",
              "      display:flex;\n",
              "      flex-wrap:wrap;\n",
              "      gap: 12px;\n",
              "    }\n",
              "\n",
              "    .colab-df-convert {\n",
              "      background-color: #E8F0FE;\n",
              "      border: none;\n",
              "      border-radius: 50%;\n",
              "      cursor: pointer;\n",
              "      display: none;\n",
              "      fill: #1967D2;\n",
              "      height: 32px;\n",
              "      padding: 0 0 0 0;\n",
              "      width: 32px;\n",
              "    }\n",
              "\n",
              "    .colab-df-convert:hover {\n",
              "      background-color: #E2EBFA;\n",
              "      box-shadow: 0px 1px 2px rgba(60, 64, 67, 0.3), 0px 1px 3px 1px rgba(60, 64, 67, 0.15);\n",
              "      fill: #174EA6;\n",
              "    }\n",
              "\n",
              "    [theme=dark] .colab-df-convert {\n",
              "      background-color: #3B4455;\n",
              "      fill: #D2E3FC;\n",
              "    }\n",
              "\n",
              "    [theme=dark] .colab-df-convert:hover {\n",
              "      background-color: #434B5C;\n",
              "      box-shadow: 0px 1px 3px 1px rgba(0, 0, 0, 0.15);\n",
              "      filter: drop-shadow(0px 1px 2px rgba(0, 0, 0, 0.3));\n",
              "      fill: #FFFFFF;\n",
              "    }\n",
              "  </style>\n",
              "\n",
              "      <script>\n",
              "        const buttonEl =\n",
              "          document.querySelector('#df-fb410a09-5981-48dc-8944-aef6912e9fd1 button.colab-df-convert');\n",
              "        buttonEl.style.display =\n",
              "          google.colab.kernel.accessAllowed ? 'block' : 'none';\n",
              "\n",
              "        async function convertToInteractive(key) {\n",
              "          const element = document.querySelector('#df-fb410a09-5981-48dc-8944-aef6912e9fd1');\n",
              "          const dataTable =\n",
              "            await google.colab.kernel.invokeFunction('convertToInteractive',\n",
              "                                                     [key], {});\n",
              "          if (!dataTable) return;\n",
              "\n",
              "          const docLinkHtml = 'Like what you see? Visit the ' +\n",
              "            '<a target=\"_blank\" href=https://colab.research.google.com/notebooks/data_table.ipynb>data table notebook</a>'\n",
              "            + ' to learn more about interactive tables.';\n",
              "          element.innerHTML = '';\n",
              "          dataTable['output_type'] = 'display_data';\n",
              "          await google.colab.output.renderOutput(dataTable, element);\n",
              "          const docLink = document.createElement('div');\n",
              "          docLink.innerHTML = docLinkHtml;\n",
              "          element.appendChild(docLink);\n",
              "        }\n",
              "      </script>\n",
              "    </div>\n",
              "  </div>\n",
              "  "
            ]
          },
          "metadata": {},
          "execution_count": 113
        }
      ]
    },
    {
      "cell_type": "markdown",
      "source": [
        "Obtenemos un dataframe sólo con los datos de Latitud y Longitud para cada estación MiBici."
      ],
      "metadata": {
        "id": "2dt2U_pjNdus"
      }
    },
    {
      "cell_type": "code",
      "source": [
        "#definimos listas\n",
        "latitudes = []\n",
        "longitudes = []\n",
        "\n",
        "for i in range(0,299): # va a tomar información de las 299 estaciones registradas \n",
        "  latitudes.append(Info_MIBICI[\"network.stations\"][0][i]['latitude'])\n",
        "  longitudes.append(Info_MIBICI[\"network.stations\"][0][i]['longitude'])"
      ],
      "metadata": {
        "id": "eECOGEgEk2Fx"
      },
      "execution_count": 5,
      "outputs": []
    },
    {
      "cell_type": "markdown",
      "source": [
        "Cada lista de puede convertir a una serie de Pandas de la siguiente forma:"
      ],
      "metadata": {
        "id": "Bdplf-5HN7D6"
      }
    },
    {
      "cell_type": "code",
      "source": [
        "latitudes_serie = pd.Series(latitudes)\n",
        "longitudes_serie = pd.Series(longitudes)"
      ],
      "metadata": {
        "id": "8mfxA2JqlLVQ"
      },
      "execution_count": 6,
      "outputs": []
    },
    {
      "cell_type": "markdown",
      "source": [
        "Buscamos crear un DataFrame con estas series, para esto primero hay que definir un diccionario."
      ],
      "metadata": {
        "id": "tPhCvbIdOCe2"
      }
    },
    {
      "cell_type": "code",
      "source": [
        "diccionario_coordenadas = { \"Latitud\": latitudes_serie, \"Longitud\": longitudes_serie}"
      ],
      "metadata": {
        "id": "k4RKwSeVlR7W"
      },
      "execution_count": 8,
      "outputs": []
    },
    {
      "cell_type": "markdown",
      "source": [
        "Obtenemos nuestro DataFrame con los datos de coordenadas para cada estación de bicicletas. "
      ],
      "metadata": {
        "id": "wmXahSXcOEQ_"
      }
    },
    {
      "cell_type": "code",
      "source": [
        "df_coordenadas = pd.DataFrame(diccionario_coordenadas)"
      ],
      "metadata": {
        "id": "uv5bC0q3lXqC"
      },
      "execution_count": 10,
      "outputs": []
    },
    {
      "cell_type": "code",
      "source": [
        "#Exploramos el dataframe\n",
        "df_coordenadas.shape[0]"
      ],
      "metadata": {
        "colab": {
          "base_uri": "https://localhost:8080/"
        },
        "id": "20S5dL-PlmyK",
        "outputId": "233c6ba1-2b30-4d57-ea5d-76bfc1adb7b0"
      },
      "execution_count": 35,
      "outputs": [
        {
          "output_type": "execute_result",
          "data": {
            "text/plain": [
              "299"
            ]
          },
          "metadata": {},
          "execution_count": 35
        }
      ]
    },
    {
      "cell_type": "code",
      "source": [
        "df_coordenadas.head()"
      ],
      "metadata": {
        "colab": {
          "base_uri": "https://localhost:8080/",
          "height": 206
        },
        "id": "W2cWtloVlr9N",
        "outputId": "2b90e268-0848-4c6e-c98a-77e870baeb88"
      },
      "execution_count": 12,
      "outputs": [
        {
          "output_type": "execute_result",
          "data": {
            "text/plain": [
              "     Latitud    Longitud\n",
              "0  20.666288 -103.398899\n",
              "1  20.676470 -103.376060\n",
              "2  20.684560 -103.356990\n",
              "3  20.674087 -103.356320\n",
              "4  20.679296 -103.370658"
            ],
            "text/html": [
              "\n",
              "  <div id=\"df-ddf93bff-ac27-4554-931a-9e23061745cd\">\n",
              "    <div class=\"colab-df-container\">\n",
              "      <div>\n",
              "<style scoped>\n",
              "    .dataframe tbody tr th:only-of-type {\n",
              "        vertical-align: middle;\n",
              "    }\n",
              "\n",
              "    .dataframe tbody tr th {\n",
              "        vertical-align: top;\n",
              "    }\n",
              "\n",
              "    .dataframe thead th {\n",
              "        text-align: right;\n",
              "    }\n",
              "</style>\n",
              "<table border=\"1\" class=\"dataframe\">\n",
              "  <thead>\n",
              "    <tr style=\"text-align: right;\">\n",
              "      <th></th>\n",
              "      <th>Latitud</th>\n",
              "      <th>Longitud</th>\n",
              "    </tr>\n",
              "  </thead>\n",
              "  <tbody>\n",
              "    <tr>\n",
              "      <th>0</th>\n",
              "      <td>20.666288</td>\n",
              "      <td>-103.398899</td>\n",
              "    </tr>\n",
              "    <tr>\n",
              "      <th>1</th>\n",
              "      <td>20.676470</td>\n",
              "      <td>-103.376060</td>\n",
              "    </tr>\n",
              "    <tr>\n",
              "      <th>2</th>\n",
              "      <td>20.684560</td>\n",
              "      <td>-103.356990</td>\n",
              "    </tr>\n",
              "    <tr>\n",
              "      <th>3</th>\n",
              "      <td>20.674087</td>\n",
              "      <td>-103.356320</td>\n",
              "    </tr>\n",
              "    <tr>\n",
              "      <th>4</th>\n",
              "      <td>20.679296</td>\n",
              "      <td>-103.370658</td>\n",
              "    </tr>\n",
              "  </tbody>\n",
              "</table>\n",
              "</div>\n",
              "      <button class=\"colab-df-convert\" onclick=\"convertToInteractive('df-ddf93bff-ac27-4554-931a-9e23061745cd')\"\n",
              "              title=\"Convert this dataframe to an interactive table.\"\n",
              "              style=\"display:none;\">\n",
              "        \n",
              "  <svg xmlns=\"http://www.w3.org/2000/svg\" height=\"24px\"viewBox=\"0 0 24 24\"\n",
              "       width=\"24px\">\n",
              "    <path d=\"M0 0h24v24H0V0z\" fill=\"none\"/>\n",
              "    <path d=\"M18.56 5.44l.94 2.06.94-2.06 2.06-.94-2.06-.94-.94-2.06-.94 2.06-2.06.94zm-11 1L8.5 8.5l.94-2.06 2.06-.94-2.06-.94L8.5 2.5l-.94 2.06-2.06.94zm10 10l.94 2.06.94-2.06 2.06-.94-2.06-.94-.94-2.06-.94 2.06-2.06.94z\"/><path d=\"M17.41 7.96l-1.37-1.37c-.4-.4-.92-.59-1.43-.59-.52 0-1.04.2-1.43.59L10.3 9.45l-7.72 7.72c-.78.78-.78 2.05 0 2.83L4 21.41c.39.39.9.59 1.41.59.51 0 1.02-.2 1.41-.59l7.78-7.78 2.81-2.81c.8-.78.8-2.07 0-2.86zM5.41 20L4 18.59l7.72-7.72 1.47 1.35L5.41 20z\"/>\n",
              "  </svg>\n",
              "      </button>\n",
              "      \n",
              "  <style>\n",
              "    .colab-df-container {\n",
              "      display:flex;\n",
              "      flex-wrap:wrap;\n",
              "      gap: 12px;\n",
              "    }\n",
              "\n",
              "    .colab-df-convert {\n",
              "      background-color: #E8F0FE;\n",
              "      border: none;\n",
              "      border-radius: 50%;\n",
              "      cursor: pointer;\n",
              "      display: none;\n",
              "      fill: #1967D2;\n",
              "      height: 32px;\n",
              "      padding: 0 0 0 0;\n",
              "      width: 32px;\n",
              "    }\n",
              "\n",
              "    .colab-df-convert:hover {\n",
              "      background-color: #E2EBFA;\n",
              "      box-shadow: 0px 1px 2px rgba(60, 64, 67, 0.3), 0px 1px 3px 1px rgba(60, 64, 67, 0.15);\n",
              "      fill: #174EA6;\n",
              "    }\n",
              "\n",
              "    [theme=dark] .colab-df-convert {\n",
              "      background-color: #3B4455;\n",
              "      fill: #D2E3FC;\n",
              "    }\n",
              "\n",
              "    [theme=dark] .colab-df-convert:hover {\n",
              "      background-color: #434B5C;\n",
              "      box-shadow: 0px 1px 3px 1px rgba(0, 0, 0, 0.15);\n",
              "      filter: drop-shadow(0px 1px 2px rgba(0, 0, 0, 0.3));\n",
              "      fill: #FFFFFF;\n",
              "    }\n",
              "  </style>\n",
              "\n",
              "      <script>\n",
              "        const buttonEl =\n",
              "          document.querySelector('#df-ddf93bff-ac27-4554-931a-9e23061745cd button.colab-df-convert');\n",
              "        buttonEl.style.display =\n",
              "          google.colab.kernel.accessAllowed ? 'block' : 'none';\n",
              "\n",
              "        async function convertToInteractive(key) {\n",
              "          const element = document.querySelector('#df-ddf93bff-ac27-4554-931a-9e23061745cd');\n",
              "          const dataTable =\n",
              "            await google.colab.kernel.invokeFunction('convertToInteractive',\n",
              "                                                     [key], {});\n",
              "          if (!dataTable) return;\n",
              "\n",
              "          const docLinkHtml = 'Like what you see? Visit the ' +\n",
              "            '<a target=\"_blank\" href=https://colab.research.google.com/notebooks/data_table.ipynb>data table notebook</a>'\n",
              "            + ' to learn more about interactive tables.';\n",
              "          element.innerHTML = '';\n",
              "          dataTable['output_type'] = 'display_data';\n",
              "          await google.colab.output.renderOutput(dataTable, element);\n",
              "          const docLink = document.createElement('div');\n",
              "          docLink.innerHTML = docLinkHtml;\n",
              "          element.appendChild(docLink);\n",
              "        }\n",
              "      </script>\n",
              "    </div>\n",
              "  </div>\n",
              "  "
            ]
          },
          "metadata": {},
          "execution_count": 12
        }
      ]
    },
    {
      "cell_type": "code",
      "source": [
        "df_coordenadas.tail()"
      ],
      "metadata": {
        "colab": {
          "base_uri": "https://localhost:8080/",
          "height": 206
        },
        "id": "7PRmMoD9mvG-",
        "outputId": "57dd149a-23fb-46b3-892a-c9cbcd988c49"
      },
      "execution_count": 20,
      "outputs": [
        {
          "output_type": "execute_result",
          "data": {
            "text/plain": [
              "       Latitud    Longitud\n",
              "294  20.681852 -103.357338\n",
              "295  20.670468 -103.366071\n",
              "296  20.681081 -103.360099\n",
              "297  20.737087 -103.401285\n",
              "298  20.682067 -103.362923"
            ],
            "text/html": [
              "\n",
              "  <div id=\"df-eee1d606-564f-4649-9eeb-071757c9fa31\">\n",
              "    <div class=\"colab-df-container\">\n",
              "      <div>\n",
              "<style scoped>\n",
              "    .dataframe tbody tr th:only-of-type {\n",
              "        vertical-align: middle;\n",
              "    }\n",
              "\n",
              "    .dataframe tbody tr th {\n",
              "        vertical-align: top;\n",
              "    }\n",
              "\n",
              "    .dataframe thead th {\n",
              "        text-align: right;\n",
              "    }\n",
              "</style>\n",
              "<table border=\"1\" class=\"dataframe\">\n",
              "  <thead>\n",
              "    <tr style=\"text-align: right;\">\n",
              "      <th></th>\n",
              "      <th>Latitud</th>\n",
              "      <th>Longitud</th>\n",
              "    </tr>\n",
              "  </thead>\n",
              "  <tbody>\n",
              "    <tr>\n",
              "      <th>294</th>\n",
              "      <td>20.681852</td>\n",
              "      <td>-103.357338</td>\n",
              "    </tr>\n",
              "    <tr>\n",
              "      <th>295</th>\n",
              "      <td>20.670468</td>\n",
              "      <td>-103.366071</td>\n",
              "    </tr>\n",
              "    <tr>\n",
              "      <th>296</th>\n",
              "      <td>20.681081</td>\n",
              "      <td>-103.360099</td>\n",
              "    </tr>\n",
              "    <tr>\n",
              "      <th>297</th>\n",
              "      <td>20.737087</td>\n",
              "      <td>-103.401285</td>\n",
              "    </tr>\n",
              "    <tr>\n",
              "      <th>298</th>\n",
              "      <td>20.682067</td>\n",
              "      <td>-103.362923</td>\n",
              "    </tr>\n",
              "  </tbody>\n",
              "</table>\n",
              "</div>\n",
              "      <button class=\"colab-df-convert\" onclick=\"convertToInteractive('df-eee1d606-564f-4649-9eeb-071757c9fa31')\"\n",
              "              title=\"Convert this dataframe to an interactive table.\"\n",
              "              style=\"display:none;\">\n",
              "        \n",
              "  <svg xmlns=\"http://www.w3.org/2000/svg\" height=\"24px\"viewBox=\"0 0 24 24\"\n",
              "       width=\"24px\">\n",
              "    <path d=\"M0 0h24v24H0V0z\" fill=\"none\"/>\n",
              "    <path d=\"M18.56 5.44l.94 2.06.94-2.06 2.06-.94-2.06-.94-.94-2.06-.94 2.06-2.06.94zm-11 1L8.5 8.5l.94-2.06 2.06-.94-2.06-.94L8.5 2.5l-.94 2.06-2.06.94zm10 10l.94 2.06.94-2.06 2.06-.94-2.06-.94-.94-2.06-.94 2.06-2.06.94z\"/><path d=\"M17.41 7.96l-1.37-1.37c-.4-.4-.92-.59-1.43-.59-.52 0-1.04.2-1.43.59L10.3 9.45l-7.72 7.72c-.78.78-.78 2.05 0 2.83L4 21.41c.39.39.9.59 1.41.59.51 0 1.02-.2 1.41-.59l7.78-7.78 2.81-2.81c.8-.78.8-2.07 0-2.86zM5.41 20L4 18.59l7.72-7.72 1.47 1.35L5.41 20z\"/>\n",
              "  </svg>\n",
              "      </button>\n",
              "      \n",
              "  <style>\n",
              "    .colab-df-container {\n",
              "      display:flex;\n",
              "      flex-wrap:wrap;\n",
              "      gap: 12px;\n",
              "    }\n",
              "\n",
              "    .colab-df-convert {\n",
              "      background-color: #E8F0FE;\n",
              "      border: none;\n",
              "      border-radius: 50%;\n",
              "      cursor: pointer;\n",
              "      display: none;\n",
              "      fill: #1967D2;\n",
              "      height: 32px;\n",
              "      padding: 0 0 0 0;\n",
              "      width: 32px;\n",
              "    }\n",
              "\n",
              "    .colab-df-convert:hover {\n",
              "      background-color: #E2EBFA;\n",
              "      box-shadow: 0px 1px 2px rgba(60, 64, 67, 0.3), 0px 1px 3px 1px rgba(60, 64, 67, 0.15);\n",
              "      fill: #174EA6;\n",
              "    }\n",
              "\n",
              "    [theme=dark] .colab-df-convert {\n",
              "      background-color: #3B4455;\n",
              "      fill: #D2E3FC;\n",
              "    }\n",
              "\n",
              "    [theme=dark] .colab-df-convert:hover {\n",
              "      background-color: #434B5C;\n",
              "      box-shadow: 0px 1px 3px 1px rgba(0, 0, 0, 0.15);\n",
              "      filter: drop-shadow(0px 1px 2px rgba(0, 0, 0, 0.3));\n",
              "      fill: #FFFFFF;\n",
              "    }\n",
              "  </style>\n",
              "\n",
              "      <script>\n",
              "        const buttonEl =\n",
              "          document.querySelector('#df-eee1d606-564f-4649-9eeb-071757c9fa31 button.colab-df-convert');\n",
              "        buttonEl.style.display =\n",
              "          google.colab.kernel.accessAllowed ? 'block' : 'none';\n",
              "\n",
              "        async function convertToInteractive(key) {\n",
              "          const element = document.querySelector('#df-eee1d606-564f-4649-9eeb-071757c9fa31');\n",
              "          const dataTable =\n",
              "            await google.colab.kernel.invokeFunction('convertToInteractive',\n",
              "                                                     [key], {});\n",
              "          if (!dataTable) return;\n",
              "\n",
              "          const docLinkHtml = 'Like what you see? Visit the ' +\n",
              "            '<a target=\"_blank\" href=https://colab.research.google.com/notebooks/data_table.ipynb>data table notebook</a>'\n",
              "            + ' to learn more about interactive tables.';\n",
              "          element.innerHTML = '';\n",
              "          dataTable['output_type'] = 'display_data';\n",
              "          await google.colab.output.renderOutput(dataTable, element);\n",
              "          const docLink = document.createElement('div');\n",
              "          docLink.innerHTML = docLinkHtml;\n",
              "          element.appendChild(docLink);\n",
              "        }\n",
              "      </script>\n",
              "    </div>\n",
              "  </div>\n",
              "  "
            ]
          },
          "metadata": {},
          "execution_count": 20
        }
      ]
    },
    {
      "cell_type": "markdown",
      "source": [
        "Definimos una función para aplicar el método K-means"
      ],
      "metadata": {
        "id": "sHWgACwUOUIK"
      }
    },
    {
      "cell_type": "code",
      "source": [
        "def all_in_one_k_means(datos, k):\n",
        "  x_train, x_test, y_train, y_test = train_test_split(datos,datos,test_size=0.4) #Divide los datos en 40% entrenamiento\n",
        "  \n",
        "  #Usamos los datos de entrenamiento\n",
        "  modelo_kmeans = KMeans(n_clusters = k).fit(x_train)\n",
        "  #Extraemos los centroides.\n",
        "  centroides = modelo_kmeans.cluster_centers_\n",
        "  #Obtenemos las etiquetas de centroide a la que pertenece cada dato\n",
        "  label = modelo_kmeans.fit_predict(datos)\n",
        "  #conseguimos los tipos de eqtiquetas totales\n",
        "  unique_labels = np.unique(label)\n",
        "  #Graficamos cada dato identificado por el clúster al que pertenece\n",
        "    #plotting the results:\n",
        " \n",
        "  for i in u_labels: #Graficamos cada punto de acuerdo al cluster al que pertenece\n",
        "   filtered_label= df_coordenadas[label == i]\n",
        "   plt.scatter(filtered_label[\"Latitud\"][:] , filtered_label[\"Longitud\"][:])\n",
        "  plt.scatter(centroides[:,0] , centroides[:,1] , s = 80, color = 'black') #Graficar centroides\n",
        "  plt.legend(u_labels) #A cada centroide se le asigna un número\n",
        "  plt.title(\"Zonas de estaciones MiBiCi en el área metropolitana de Guadalajara\")\n",
        "  plt.xlabel(\"Latitud\")\n",
        "  plt.ylabel(\"Longitud\")\n",
        "  plt.show()\n",
        "  \n"
      ],
      "metadata": {
        "id": "Ps095fBwjsfY"
      },
      "execution_count": 132,
      "outputs": []
    },
    {
      "cell_type": "markdown",
      "source": [
        "Probamos los datos con 3,4 y 5 clusters"
      ],
      "metadata": {
        "id": "OS49pFpxnHCG"
      }
    },
    {
      "cell_type": "code",
      "source": [
        "#3 clusters\n",
        "all_in_one_k_means(df_coordenadas, 3)"
      ],
      "metadata": {
        "colab": {
          "base_uri": "https://localhost:8080/",
          "height": 295
        },
        "id": "Biza01r9mTiy",
        "outputId": "a5a5e193-ef0c-41c9-fc80-585d7b34846d"
      },
      "execution_count": 130,
      "outputs": [
        {
          "output_type": "display_data",
          "data": {
            "text/plain": [
              "<Figure size 432x288 with 1 Axes>"
            ],
            "image/png": "[encoded data removed]"
          },
          "metadata": {
            "needs_background": "light"
          }
        }
      ]
    },
    {
      "cell_type": "code",
      "source": [
        "#4 clusters\n",
        "all_in_one_k_means(df_coordenadas, 4)"
      ],
      "metadata": {
        "colab": {
          "base_uri": "https://localhost:8080/",
          "height": 295
        },
        "id": "Y1fOD5x6mDxK",
        "outputId": "e3466eef-9ed0-4e67-b416-ae4cd5b199bf"
      },
      "execution_count": 129,
      "outputs": [
        {
          "output_type": "display_data",
          "data": {
            "text/plain": [
              "<Figure size 432x288 with 1 Axes>"
            ],
            "image/png": "[encoded data removed]"
          },
          "metadata": {
            "needs_background": "light"
          }
        }
      ]
    },
    {
      "cell_type": "code",
      "source": [
        "#5 clusters\n",
        "all_in_one_k_means(df_coordenadas, 5)"
      ],
      "metadata": {
        "colab": {
          "base_uri": "https://localhost:8080/",
          "height": 295
        },
        "id": "Ivq-j09wmZeq",
        "outputId": "08856dc8-c131-4512-9d58-ec91c3a0f8a0"
      },
      "execution_count": 131,
      "outputs": [
        {
          "output_type": "display_data",
          "data": {
            "text/plain": [
              "<Figure size 432x288 with 1 Axes>"
            ],
            "image/png": "[encoded data removed]"
          },
          "metadata": {
            "needs_background": "light"
          }
        }
      ]
    },
    {
      "cell_type": "markdown",
      "source": [
        "#Conclusión\n",
        "El aprendizaje no supervizado nos puede ayudar a separar las regiones en donde se encuentran las las estaciones MIBici en Jalisco. Los lugares de mayor concentración pueden ser áreas de oportunidad para vender todo tipo de accesorios para bibicleta, o se podría tratar de cubrir zonas que no cuenten con servicio de bicicleta. Se han identificado claramente 4 zonas que se distribuyen en 3 municipios del estado de Jalisco. La decisión debe ir acompañada del perfil de la población que podría estar interesada en comprar bicicletas. "
      ],
      "metadata": {
        "id": "Wblb1FjBnRGk"
      }
    }
  ]
}